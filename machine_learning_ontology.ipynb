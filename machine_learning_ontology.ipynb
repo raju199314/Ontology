{
  "nbformat": 4,
  "nbformat_minor": 0,
  "metadata": {
    "colab": {
      "provenance": [],
      "gpuType": "T4"
    },
    "kernelspec": {
      "name": "python3",
      "display_name": "Python 3"
    },
    "language_info": {
      "name": "python"
    },
    "accelerator": "GPU"
  },
  "cells": [
    {
      "cell_type": "code",
      "source": [
        "!pip install owlready2 rdflib scikit-learn\n"
      ],
      "metadata": {
        "colab": {
          "base_uri": "https://localhost:8080/"
        },
        "id": "KKvE81ZvWwoe",
        "outputId": "ded2a7a6-5abe-49f1-faeb-e66fd6bae356"
      },
      "execution_count": 1,
      "outputs": [
        {
          "output_type": "stream",
          "name": "stdout",
          "text": [
            "Collecting owlready2\n",
            "  Downloading owlready2-0.47.tar.gz (27.3 MB)\n",
            "\u001b[2K     \u001b[90m━━━━━━━━━━━━━━━━━━━━━━━━━━━━━━━━━━━━━━━━\u001b[0m \u001b[32m27.3/27.3 MB\u001b[0m \u001b[31m83.2 MB/s\u001b[0m eta \u001b[36m0:00:00\u001b[0m\n",
            "\u001b[?25h  Installing build dependencies ... \u001b[?25l\u001b[?25hdone\n",
            "  Getting requirements to build wheel ... \u001b[?25l\u001b[?25hdone\n",
            "  Preparing metadata (pyproject.toml) ... \u001b[?25l\u001b[?25hdone\n",
            "Collecting rdflib\n",
            "  Downloading rdflib-7.1.4-py3-none-any.whl.metadata (11 kB)\n",
            "Requirement already satisfied: scikit-learn in /usr/local/lib/python3.11/dist-packages (1.6.1)\n",
            "Requirement already satisfied: pyparsing<4,>=2.1.0 in /usr/local/lib/python3.11/dist-packages (from rdflib) (3.2.3)\n",
            "Requirement already satisfied: numpy>=1.19.5 in /usr/local/lib/python3.11/dist-packages (from scikit-learn) (2.0.2)\n",
            "Requirement already satisfied: scipy>=1.6.0 in /usr/local/lib/python3.11/dist-packages (from scikit-learn) (1.15.2)\n",
            "Requirement already satisfied: joblib>=1.2.0 in /usr/local/lib/python3.11/dist-packages (from scikit-learn) (1.4.2)\n",
            "Requirement already satisfied: threadpoolctl>=3.1.0 in /usr/local/lib/python3.11/dist-packages (from scikit-learn) (3.6.0)\n",
            "Downloading rdflib-7.1.4-py3-none-any.whl (565 kB)\n",
            "\u001b[2K   \u001b[90m━━━━━━━━━━━━━━━━━━━━━━━━━━━━━━━━━━━━━━━━\u001b[0m \u001b[32m565.1/565.1 kB\u001b[0m \u001b[31m47.1 MB/s\u001b[0m eta \u001b[36m0:00:00\u001b[0m\n",
            "\u001b[?25hBuilding wheels for collected packages: owlready2\n",
            "  Building wheel for owlready2 (pyproject.toml) ... \u001b[?25l\u001b[?25hdone\n",
            "  Created wheel for owlready2: filename=owlready2-0.47-cp311-cp311-linux_x86_64.whl size=24577526 sha256=a5a8353b52af7b96d74c94129acf83a3fa6a8a3add6db81e2518cb87df040ecd\n",
            "  Stored in directory: /root/.cache/pip/wheels/25/9a/a3/fb1ac6339caa859c8bb18d685736168b0b51d851af13d81d52\n",
            "Successfully built owlready2\n",
            "Installing collected packages: rdflib, owlready2\n",
            "Successfully installed owlready2-0.47 rdflib-7.1.4\n"
          ]
        }
      ]
    },
    {
      "cell_type": "markdown",
      "source": [
        "The DecisionTreeClassifier is a supervised learning algorithm in scikit-learn used for classification tasks. It builds a model in the form of a tree-like structure, where:\n",
        "\n",
        "Internal nodes represent decisions based on feature values.\n",
        "\n",
        "Branches represent outcomes of those decisions.\n",
        "\n",
        "Leaf nodes represent final class labels (predictions)."
      ],
      "metadata": {
        "id": "7mMn6kTC-Upr"
      }
    },
    {
      "cell_type": "code",
      "execution_count": 2,
      "metadata": {
        "colab": {
          "base_uri": "https://localhost:8080/"
        },
        "id": "FSXNMNHEWWbT",
        "outputId": "c34c7f56-5b20-4e07-eb91-cf12db6ed9ad"
      },
      "outputs": [
        {
          "output_type": "stream",
          "name": "stdout",
          "text": [
            "Classification Report:\n",
            "\n",
            "               precision    recall  f1-score   support\n",
            "\n",
            "CheeseTopping       0.00      0.00      0.00       1.0\n",
            "  FishTopping       0.00      0.00      0.00       1.0\n",
            "  MeatTopping       0.00      0.00      0.00       0.0\n",
            "\n",
            "     accuracy                           0.00       2.0\n",
            "    macro avg       0.00      0.00      0.00       2.0\n",
            " weighted avg       0.00      0.00      0.00       2.0\n",
            "\n"
          ]
        },
        {
          "output_type": "stream",
          "name": "stderr",
          "text": [
            "/usr/local/lib/python3.11/dist-packages/sklearn/metrics/_classification.py:1565: UndefinedMetricWarning: Precision is ill-defined and being set to 0.0 in labels with no predicted samples. Use `zero_division` parameter to control this behavior.\n",
            "  _warn_prf(average, modifier, f\"{metric.capitalize()} is\", len(result))\n",
            "/usr/local/lib/python3.11/dist-packages/sklearn/metrics/_classification.py:1565: UndefinedMetricWarning: Recall is ill-defined and being set to 0.0 in labels with no true samples. Use `zero_division` parameter to control this behavior.\n",
            "  _warn_prf(average, modifier, f\"{metric.capitalize()} is\", len(result))\n",
            "/usr/local/lib/python3.11/dist-packages/sklearn/metrics/_classification.py:1565: UndefinedMetricWarning: Precision is ill-defined and being set to 0.0 in labels with no predicted samples. Use `zero_division` parameter to control this behavior.\n",
            "  _warn_prf(average, modifier, f\"{metric.capitalize()} is\", len(result))\n",
            "/usr/local/lib/python3.11/dist-packages/sklearn/metrics/_classification.py:1565: UndefinedMetricWarning: Recall is ill-defined and being set to 0.0 in labels with no true samples. Use `zero_division` parameter to control this behavior.\n",
            "  _warn_prf(average, modifier, f\"{metric.capitalize()} is\", len(result))\n",
            "/usr/local/lib/python3.11/dist-packages/sklearn/metrics/_classification.py:1565: UndefinedMetricWarning: Precision is ill-defined and being set to 0.0 in labels with no predicted samples. Use `zero_division` parameter to control this behavior.\n",
            "  _warn_prf(average, modifier, f\"{metric.capitalize()} is\", len(result))\n",
            "/usr/local/lib/python3.11/dist-packages/sklearn/metrics/_classification.py:1565: UndefinedMetricWarning: Recall is ill-defined and being set to 0.0 in labels with no true samples. Use `zero_division` parameter to control this behavior.\n",
            "  _warn_prf(average, modifier, f\"{metric.capitalize()} is\", len(result))\n"
          ]
        }
      ],
      "source": [
        "from owlready2 import *\n",
        "from sklearn.feature_extraction.text import TfidfVectorizer\n",
        "from sklearn.tree import DecisionTreeClassifier\n",
        "from sklearn.model_selection import train_test_split\n",
        "from sklearn.metrics import classification_report\n",
        "import numpy as np\n",
        "\n",
        "# Load your ontology file (change this path to your OWL file)\n",
        "onto = get_ontology(\"http://www.lesfleursdunormal.fr/static/_downloads/pizza_onto.owl\").load()\n",
        "\n",
        "# Step 1: Extract ontology classes and their annotations\n",
        "data = []\n",
        "labels = []\n",
        "\n",
        "for cls in onto.classes():\n",
        "    label = cls.name\n",
        "    annotations = []\n",
        "\n",
        "    # Collect label, comments, and subclasses as textual features\n",
        "    if cls.label:\n",
        "        annotations.extend(cls.label)\n",
        "    if cls.comment:\n",
        "        annotations.extend(cls.comment)\n",
        "    annotations.extend([sub.name for sub in cls.subclasses()])\n",
        "\n",
        "    data.append(\" \".join(annotations))\n",
        "    labels.append(label)\n",
        "\n",
        "# Step 2: Convert text to feature vectors using TF-IDF\n",
        "vectorizer = TfidfVectorizer()\n",
        "X = vectorizer.fit_transform(data)\n",
        "\n",
        "# For demo, use class names as labels (in practice, use meaningful categories)\n",
        "y = labels\n",
        "\n",
        "# Step 3: Train-test split\n",
        "X_train, X_test, y_train, y_test = train_test_split(X, y, test_size=0.2, random_state=42)\n",
        "\n",
        "# Step 4: Train a classifier\n",
        "clf = DecisionTreeClassifier(\n",
        "    criterion='entropy',\n",
        "    max_depth=5,\n",
        "    min_samples_split=4,\n",
        "    max_features='sqrt',\n",
        "    random_state=42\n",
        ")\n",
        "clf.fit(X_train, y_train)\n",
        "\n",
        "# Step 5: Evaluate\n",
        "y_pred = clf.predict(X_test)\n",
        "print(\"Classification Report:\\n\")\n",
        "print(classification_report(y_test, y_pred))\n",
        "\n"
      ]
    },
    {
      "cell_type": "markdown",
      "source": [
        "Random Forest is an ensemble learning algorithm that combines multiple decision trees to improve predictive performance and control overfitting. It is used for both classification and regression tasks.\n",
        "\n",
        "It’s based on the idea of building a “forest” of many decision trees during training time and outputting either the mode of the classes (classification) or the mean prediction (regression) of the individual trees."
      ],
      "metadata": {
        "id": "-1VYNQ8S70MG"
      }
    },
    {
      "cell_type": "code",
      "source": [
        "import rdflib\n",
        "import pandas as pd\n",
        "import numpy as np\n",
        "from rdflib.namespace import RDF, RDFS\n",
        "from rdflib import URIRef, Literal\n",
        "from sklearn.ensemble import RandomForestClassifier\n",
        "from sklearn.model_selection import train_test_split\n",
        "from sklearn.metrics import classification_report\n",
        "\n",
        "# Load RDF data\n",
        "g = rdflib.Graph()\n",
        "g.parse(\"prod.fibo-quickstart.ttl\", format=\"ttl\")\n",
        "\n",
        "# Define URIs\n",
        "LEGAL_ENTITY = URIRef(\"https://www.omg.org/spec/Commons/Organizations/LegalEntity\")\n",
        "OPERATES_IN_COUNTRY = URIRef(\"https://spec.edmcouncil.org/fibo/ontology/FBC/FunctionalEntities/Markets/operatesInCountry\")\n",
        "IS_MANAGED_BY = URIRef(\"https://www.omg.org/spec/Commons/Organizations/isManagedBy\")\n",
        "LABEL = RDFS.label\n",
        "\n",
        "# Extract data\n",
        "data = []\n",
        "\n",
        "for s in g.subjects(RDF.type, LEGAL_ENTITY):\n",
        "    entity = {\n",
        "        \"uri\": str(s),\n",
        "        \"label\": str(g.value(s, LABEL)) if g.value(s, LABEL) else None,\n",
        "        \"country\": str(g.value(s, OPERATES_IN_COUNTRY)) if g.value(s, OPERATES_IN_COUNTRY) else None,\n",
        "        \"manager\": str(g.value(s, IS_MANAGED_BY)) if g.value(s, IS_MANAGED_BY) else None,\n",
        "        \"revenue\": np.random.uniform(1e6, 1e9),     # synthetic feature\n",
        "        \"employees\": np.random.randint(50, 10000),  # synthetic feature\n",
        "        \"is_issuer\": np.random.choice([0, 1])       # synthetic label\n",
        "    }\n",
        "    data.append(entity)\n",
        "\n",
        "# Convert to DataFrame\n",
        "df = pd.DataFrame(data)\n",
        "\n",
        "# Drop unused columns\n",
        "X = df[['revenue', 'employees']]\n",
        "y = df['is_issuer']\n",
        "\n",
        "# Train/test split\n",
        "X_train, X_test, y_train, y_test = train_test_split(X, y, test_size=0.2, random_state=42)\n",
        "\n",
        "\n"
      ],
      "metadata": {
        "id": "RJLr1itEZqpy"
      },
      "execution_count": 3,
      "outputs": []
    },
    {
      "cell_type": "code",
      "source": [
        "# Train model\n",
        "\n",
        "clf = RandomForestClassifier(\n",
        "    n_estimators=200,  # no of trees\n",
        "    max_depth=10,  # depth of each tree\n",
        "    min_samples_split=5,\n",
        "    max_features='sqrt',\n",
        "    bootstrap=True,\n",
        "    random_state=42,\n",
        "    n_jobs=-1\n",
        ")\n",
        "clf.fit(X_train, y_train)\n",
        "\n",
        "# Predict and evaluate\n",
        "y_pred = clf.predict(X_test)\n",
        "print(\"=== Classification Report ===\")\n",
        "print(classification_report(y_test, y_pred))"
      ],
      "metadata": {
        "colab": {
          "base_uri": "https://localhost:8080/"
        },
        "id": "b74BhPYB9Tgf",
        "outputId": "7cc52ebe-9b19-46d9-f9df-c321518e35c5"
      },
      "execution_count": 4,
      "outputs": [
        {
          "output_type": "stream",
          "name": "stdout",
          "text": [
            "=== Classification Report ===\n",
            "              precision    recall  f1-score   support\n",
            "\n",
            "           0       0.54      0.67      0.60        67\n",
            "           1       0.54      0.41      0.46        64\n",
            "\n",
            "    accuracy                           0.54       131\n",
            "   macro avg       0.54      0.54      0.53       131\n",
            "weighted avg       0.54      0.54      0.53       131\n",
            "\n"
          ]
        }
      ]
    },
    {
      "cell_type": "code",
      "source": [],
      "metadata": {
        "id": "R4vBSPzffGt3"
      },
      "execution_count": null,
      "outputs": []
    },
    {
      "cell_type": "code",
      "source": [
        "import numpy as np\n",
        "import pandas as pd\n",
        "\n",
        "# Function to load the trained model and make predictions\n",
        "def predict_is_issuer(revenue, employees):\n",
        "    # Prepare the feature vector for prediction\n",
        "    input_data = pd.DataFrame({\n",
        "        'revenue': [revenue],\n",
        "        'employees': [employees]\n",
        "    })\n",
        "\n",
        "    # Use the trained classifier to predict the 'is_issuer' label\n",
        "    is_issuer_pred = clf.predict(input_data)\n",
        "\n",
        "    # Return the prediction result\n",
        "    return is_issuer_pred[0]\n",
        "\n",
        "# Example usage of the inference function\n",
        "new_revenue = np.random.uniform(1e6, 1e9)  # Random revenue value for testing\n",
        "new_employees = np.random.randint(50, 10000)  # Random number of employees for testing\n",
        "\n",
        "# Get the prediction\n",
        "prediction = predict_is_issuer(new_revenue, new_employees)\n",
        "\n",
        "# Print the result\n",
        "if prediction == 1:\n",
        "    print(f\"The new entity with revenue {new_revenue} and {new_employees} employees is an issuer.\")\n",
        "else:\n",
        "    print(f\"The new entity with revenue {new_revenue} and {new_employees} employees is not an issuer.\")\n"
      ],
      "metadata": {
        "colab": {
          "base_uri": "https://localhost:8080/"
        },
        "id": "VFMp4nmrafxV",
        "outputId": "dbc03a58-5d92-4418-ad35-1ecc7ab3fc7d"
      },
      "execution_count": 5,
      "outputs": [
        {
          "output_type": "stream",
          "name": "stdout",
          "text": [
            "The new entity with revenue 275758158.08818877 and 2586 employees is not an issuer.\n"
          ]
        }
      ]
    },
    {
      "cell_type": "code",
      "source": [
        "from sklearn.linear_model import LogisticRegression\n",
        "from sklearn.metrics import classification_report, log_loss\n",
        "import matplotlib.pyplot as plt\n",
        "import numpy as np\n",
        "import pandas as pd\n",
        "\n",
        "# Configure Logistic Regression with hyperparameters\n",
        "clf_lr = LogisticRegression(\n",
        "    penalty='l2',             # Regularization type (L2 is default)\n",
        "    C=1.0,                    # Inverse of regularization strength\n",
        "    solver='lbfgs',           # Solver that supports loss convergence tracking\n",
        "    max_iter=100,             # Maximum number of iterations\n",
        "    verbose=1,                # Print loss per iteration\n",
        "    random_state=42\n",
        ")\n",
        "\n",
        "# Fit the model\n",
        "clf_lr.fit(X_train, y_train)\n",
        "y_pred = clf_lr.predict(X_test)\n",
        "y_prob = clf_lr.predict_proba(X_test)\n",
        "\n",
        "# Report\n",
        "print(\"=== Classification Report ===\")\n",
        "print(classification_report(y_test, y_pred))\n"
      ],
      "metadata": {
        "colab": {
          "base_uri": "https://localhost:8080/"
        },
        "id": "rMKc1W-idmzF",
        "outputId": "49ffbd08-9cfb-4e17-eb6a-17cd67a0f071"
      },
      "execution_count": 7,
      "outputs": [
        {
          "output_type": "stream",
          "name": "stdout",
          "text": [
            "=== Classification Report ===\n",
            "              precision    recall  f1-score   support\n",
            "\n",
            "           0       0.51      1.00      0.68        67\n",
            "           1       0.00      0.00      0.00        64\n",
            "\n",
            "    accuracy                           0.51       131\n",
            "   macro avg       0.26      0.50      0.34       131\n",
            "weighted avg       0.26      0.51      0.35       131\n",
            "\n"
          ]
        },
        {
          "output_type": "stream",
          "name": "stderr",
          "text": [
            "/usr/local/lib/python3.11/dist-packages/sklearn/metrics/_classification.py:1565: UndefinedMetricWarning: Precision is ill-defined and being set to 0.0 in labels with no predicted samples. Use `zero_division` parameter to control this behavior.\n",
            "  _warn_prf(average, modifier, f\"{metric.capitalize()} is\", len(result))\n",
            "/usr/local/lib/python3.11/dist-packages/sklearn/metrics/_classification.py:1565: UndefinedMetricWarning: Precision is ill-defined and being set to 0.0 in labels with no predicted samples. Use `zero_division` parameter to control this behavior.\n",
            "  _warn_prf(average, modifier, f\"{metric.capitalize()} is\", len(result))\n",
            "/usr/local/lib/python3.11/dist-packages/sklearn/metrics/_classification.py:1565: UndefinedMetricWarning: Precision is ill-defined and being set to 0.0 in labels with no predicted samples. Use `zero_division` parameter to control this behavior.\n",
            "  _warn_prf(average, modifier, f\"{metric.capitalize()} is\", len(result))\n"
          ]
        }
      ]
    },
    {
      "cell_type": "markdown",
      "source": [
        "Logistic Regression is a classification algorithm that predicts the probability of a binary outcome (i.e., whether something is 0 or 1, true or false, yes or no). Despite its name, it is not a regression technique in the traditional sense (like linear regression); instead, it’s used for classification tasks.\n",
        "\n",
        "The goal is to find the best-fitting model to describe the relationship between the input features (independent variables) and the probability of a particular outcome."
      ],
      "metadata": {
        "id": "a8LKK--PYfFd"
      }
    },
    {
      "cell_type": "code",
      "source": [
        "from sklearn.linear_model import LogisticRegression\n",
        "from sklearn.metrics import log_loss\n",
        "import matplotlib.pyplot as plt\n",
        "\n",
        "losses = []\n",
        "clf_lr = LogisticRegression(\n",
        "    penalty='l2',           # Type of regularization to prevent overfitting.\n",
        "                           # 'l2' applies Ridge (squared) penalty on coefficients.\n",
        "\n",
        "    C=1.0,                  # Inverse of regularization strength.\n",
        "                           # Smaller values (e.g., 0.1) mean **stronger regularization**.\n",
        "                           # Larger values (e.g., 10) mean **weaker regularization**.\n",
        "\n",
        "    solver='lbfgs',          # Optimization algorithm used to minimize the loss function.\n",
        "\n",
        "\n",
        "    max_iter=10,             # Maximum number of iterations to run in each `.fit()` call.\n",
        "\n",
        "    warm_start=True,        # When True, reuse the solution from the previous call to `.fit()`.\n",
        "                           # Useful for manual iteration control or tracking loss over time.\n",
        "\n",
        "    random_state=42         # Ensures reproducibility by setting the random seed.\n",
        ")\n",
        "\n",
        "\n",
        "# Perform 100 iterations manually\n",
        "for i in range(90):\n",
        "    clf_lr.fit(X_train, y_train)  # This does 1 iteration due to max_iter=1\n",
        "    y_prob = clf_lr.predict_proba(X_train)\n",
        "    loss = log_loss(y_train, y_prob)\n",
        "    losses.append(loss)\n",
        "\n",
        "# Plot the loss\n",
        "plt.plot(range(1, len(losses) + 1), losses, marker='o')\n",
        "plt.title(\"Training Log Loss Over Iterations\")\n",
        "plt.xlabel(\"Iteration\")\n",
        "plt.ylabel(\"Log Loss\")\n",
        "plt.grid(True)\n",
        "plt.tight_layout()\n",
        "plt.show()\n"
      ],
      "metadata": {
        "colab": {
          "base_uri": "https://localhost:8080/",
          "height": 616
        },
        "id": "aNRb9GzUUqhW",
        "outputId": "ab734425-51e2-417e-b55b-af70976646d9"
      },
      "execution_count": 38,
      "outputs": [
        {
          "output_type": "stream",
          "name": "stderr",
          "text": [
            "/usr/local/lib/python3.11/dist-packages/sklearn/linear_model/_logistic.py:465: ConvergenceWarning: lbfgs failed to converge (status=1):\n",
            "STOP: TOTAL NO. OF ITERATIONS REACHED LIMIT.\n",
            "\n",
            "Increase the number of iterations (max_iter) or scale the data as shown in:\n",
            "    https://scikit-learn.org/stable/modules/preprocessing.html\n",
            "Please also refer to the documentation for alternative solver options:\n",
            "    https://scikit-learn.org/stable/modules/linear_model.html#logistic-regression\n",
            "  n_iter_i = _check_optimize_result(\n"
          ]
        },
        {
          "output_type": "display_data",
          "data": {
            "text/plain": [
              "<Figure size 640x480 with 1 Axes>"
            ],
            "image/png": "[encoded data removed]"
          },
          "metadata": {}
        }
      ]
    },
    {
      "cell_type": "markdown",
      "source": [
        "Support Vector Machine is a powerful, flexible classifier used for both binary and multi-class classification problems. It works by finding the hyperplane that best separates data points into different classes. The goal is to find the maximum margin hyperplane that maximizes the distance between the closest data points (called support vectors) of each class."
      ],
      "metadata": {
        "id": "K4PASqnWYt3B"
      }
    },
    {
      "cell_type": "code",
      "source": [
        "from sklearn.svm import SVC\n",
        "import numpy as np\n",
        "import pandas as pd\n",
        "\n",
        "# Train the Support Vector Machine model\n",
        "from sklearn.svm import SVC\n",
        "\n",
        "clf_svm = SVC(\n",
        "    C=1.0,                  # Regularization parameter (default=1.0). Smaller values = softer margin, more regularization.\n",
        "    kernel='rbf',           # Kernel type: 'linear', 'poly', 'rbf', 'sigmoid'. RBF (Gaussian) handles non-linear separation well.\n",
        "    degree=3,               # Degree of the polynomial kernel function (used only if kernel='poly').\n",
        "    gamma='scale',          # Defines influence of training points (used in 'rbf', 'poly', 'sigmoid'). 'scale' = 1 / (n_features * X.var()).\n",
        "    coef0=0.0,              # Independent term in kernel function (used in 'poly' and 'sigmoid').\n",
        "    shrinking=True,         # Whether to use the shrinking heuristic for speed.\n",
        "    probability=False,      # If True, enables probability estimates (adds Platt scaling). Slows down training.\n",
        "    tol=1e-3,               # Tolerance for stopping criteria.\n",
        "    cache_size=200,         # Size of kernel cache in MB.\n",
        "    class_weight=None,      # Set class weights automatically with 'balanced' or supply a dict.\n",
        "    verbose=False,          # Enable verbose output during fitting.\n",
        "    max_iter=-1,            # Limit on iterations. -1 means no limit.\n",
        "    random_state=42         # Controls random shuffling (relevant only when probability=True or in cross-validation).\n",
        ")\n",
        "\n",
        "clf_svm.fit(X_train, y_train)\n",
        "y_pred = clf_svm.predict(X_test)\n",
        "print(\"=== Classification Report ===\")\n",
        "print(classification_report(y_test, y_pred))\n",
        "\n",
        "\n"
      ],
      "metadata": {
        "colab": {
          "base_uri": "https://localhost:8080/"
        },
        "id": "Q-r6SG43eAJK",
        "outputId": "28dd977c-33b2-43ad-ace0-946bf7b976d2"
      },
      "execution_count": 39,
      "outputs": [
        {
          "output_type": "stream",
          "name": "stdout",
          "text": [
            "=== Classification Report ===\n",
            "              precision    recall  f1-score   support\n",
            "\n",
            "           0       0.51      1.00      0.68        67\n",
            "           1       0.00      0.00      0.00        64\n",
            "\n",
            "    accuracy                           0.51       131\n",
            "   macro avg       0.26      0.50      0.34       131\n",
            "weighted avg       0.26      0.51      0.35       131\n",
            "\n"
          ]
        },
        {
          "output_type": "stream",
          "name": "stderr",
          "text": [
            "/usr/local/lib/python3.11/dist-packages/sklearn/metrics/_classification.py:1565: UndefinedMetricWarning: Precision is ill-defined and being set to 0.0 in labels with no predicted samples. Use `zero_division` parameter to control this behavior.\n",
            "  _warn_prf(average, modifier, f\"{metric.capitalize()} is\", len(result))\n",
            "/usr/local/lib/python3.11/dist-packages/sklearn/metrics/_classification.py:1565: UndefinedMetricWarning: Precision is ill-defined and being set to 0.0 in labels with no predicted samples. Use `zero_division` parameter to control this behavior.\n",
            "  _warn_prf(average, modifier, f\"{metric.capitalize()} is\", len(result))\n",
            "/usr/local/lib/python3.11/dist-packages/sklearn/metrics/_classification.py:1565: UndefinedMetricWarning: Precision is ill-defined and being set to 0.0 in labels with no predicted samples. Use `zero_division` parameter to control this behavior.\n",
            "  _warn_prf(average, modifier, f\"{metric.capitalize()} is\", len(result))\n"
          ]
        }
      ]
    },
    {
      "cell_type": "code",
      "source": [],
      "metadata": {
        "id": "dVw6ArBpa1ve"
      },
      "execution_count": null,
      "outputs": []
    },
    {
      "cell_type": "markdown",
      "source": [
        "The K-Nearest Neighbors (KNN) algorithm is a simple, supervised machine learning method used for both classification and regression tasks. It predicts the class or value of a new data point by considering its nearest neighbors in a feature space. KNN works by finding the \"k\" closest data points to a new input and then either assigning the new point to the majority class of those neighbors (for classification) or predicting its value as the average or weighted average of the neighbors' values (for regression)."
      ],
      "metadata": {
        "id": "s8Ot0L9JcE9U"
      }
    },
    {
      "cell_type": "code",
      "source": [
        "from sklearn.neighbors import KNeighborsClassifier\n",
        "import numpy as np\n",
        "import pandas as pd\n",
        "\n",
        "# Train the k-NN model\n",
        "clf_knn = KNeighborsClassifier(\n",
        "    n_neighbors=5,             # The number of neighbors to use for classification. Default is 5.\n",
        "    weights='uniform',         # 'uniform': all neighbors have equal weight, 'distance': closer neighbors have more weight.\n",
        "    algorithm='auto',          # 'auto': chooses the best algorithm based on the dataset (ball_tree, kd_tree, brute, etc.)\n",
        "    leaf_size=30,              # The leaf size for the BallTree and KDTree algorithms. Default is 30.\n",
        "    metric='minkowski',        # Distance metric to use. 'minkowski' is the default, and p=2 corresponds to Euclidean distance.\n",
        "    p=2,                       # The power parameter for the Minkowski distance metric. p=2 corresponds to Euclidean distance.\n",
        "    n_jobs=-1,                 # The number of parallel jobs to run for neighbor search. -1 means using all available CPUs.\n",
        ")\n",
        "clf_knn.fit(X_train, y_train)\n",
        "y_pred = clf_knn.predict(X_test)\n",
        "print(\"=== Classification Report ===\")\n",
        "print(classification_report(y_test, y_pred))"
      ],
      "metadata": {
        "colab": {
          "base_uri": "https://localhost:8080/"
        },
        "id": "_m3zRc_JeVb6",
        "outputId": "df12b0fe-e393-4c15-c8a5-9566515e2252"
      },
      "execution_count": 40,
      "outputs": [
        {
          "output_type": "stream",
          "name": "stdout",
          "text": [
            "=== Classification Report ===\n",
            "              precision    recall  f1-score   support\n",
            "\n",
            "           0       0.53      0.72      0.61        67\n",
            "           1       0.53      0.33      0.40        64\n",
            "\n",
            "    accuracy                           0.53       131\n",
            "   macro avg       0.53      0.52      0.51       131\n",
            "weighted avg       0.53      0.53      0.51       131\n",
            "\n"
          ]
        }
      ]
    },
    {
      "cell_type": "markdown",
      "source": [
        "The MLPClassifier (Multilayer Perceptron Classifier) is a supervised learning algorithm for classification tasks, which belongs to the family of artificial neural networks (ANN). The \"Multilayer\" part refers to the network's structure, which includes multiple layers of neurons (or nodes) that process information.\n",
        "\n",
        "MLP is a feedforward neural network where data moves in one direction — from the input layer through hidden layers to the output layer. MLP can capture non-linear relationships in the data, making it powerful for complex classification tasks. It is typically used for problems where simpler models like Logistic Regression or K-Nearest Neighbors might struggle to find patterns."
      ],
      "metadata": {
        "id": "mnPauw4Tc2Ld"
      }
    },
    {
      "cell_type": "code",
      "source": [
        "from sklearn.neural_network import MLPClassifier\n",
        "from sklearn.model_selection import train_test_split\n",
        "from sklearn.metrics import classification_report, confusion_matrix, accuracy_score\n",
        "from sklearn.preprocessing import StandardScaler\n",
        "scaler = StandardScaler()\n",
        "X_scaled = scaler.fit_transform(X)\n",
        "\n",
        "# Define and train MLP\n",
        "mlp = MLPClassifier(hidden_layer_sizes=(16, 8), activation='relu', solver='adam', max_iter=500, random_state=42)\n",
        "mlp.fit(X_train, y_train)\n",
        "\n",
        "# Predictions\n",
        "y_pred = mlp.predict(X_test)\n",
        "\n",
        "# Evaluation\n",
        "print(\"=== MLP Classifier Evaluation ===\")\n",
        "print(\"Accuracy:\", accuracy_score(y_test, y_pred))\n",
        "print(\"Confusion Matrix:\\n\", confusion_matrix(y_test, y_pred))\n",
        "print(\"Classification Report:\\n\", classification_report(y_test, y_pred))"
      ],
      "metadata": {
        "colab": {
          "base_uri": "https://localhost:8080/"
        },
        "id": "XgPcpXR2fHqq",
        "outputId": "4cf802ee-274c-463a-e13c-fd9b79155994"
      },
      "execution_count": 11,
      "outputs": [
        {
          "output_type": "stream",
          "name": "stdout",
          "text": [
            "=== MLP Classifier Evaluation ===\n",
            "Accuracy: 0.5190839694656488\n",
            "Confusion Matrix:\n",
            " [[68  0]\n",
            " [63  0]]\n",
            "Classification Report:\n",
            "               precision    recall  f1-score   support\n",
            "\n",
            "           0       0.52      1.00      0.68        68\n",
            "           1       0.00      0.00      0.00        63\n",
            "\n",
            "    accuracy                           0.52       131\n",
            "   macro avg       0.26      0.50      0.34       131\n",
            "weighted avg       0.27      0.52      0.35       131\n",
            "\n"
          ]
        },
        {
          "output_type": "stream",
          "name": "stderr",
          "text": [
            "/usr/local/lib/python3.11/dist-packages/sklearn/metrics/_classification.py:1565: UndefinedMetricWarning: Precision is ill-defined and being set to 0.0 in labels with no predicted samples. Use `zero_division` parameter to control this behavior.\n",
            "  _warn_prf(average, modifier, f\"{metric.capitalize()} is\", len(result))\n",
            "/usr/local/lib/python3.11/dist-packages/sklearn/metrics/_classification.py:1565: UndefinedMetricWarning: Precision is ill-defined and being set to 0.0 in labels with no predicted samples. Use `zero_division` parameter to control this behavior.\n",
            "  _warn_prf(average, modifier, f\"{metric.capitalize()} is\", len(result))\n",
            "/usr/local/lib/python3.11/dist-packages/sklearn/metrics/_classification.py:1565: UndefinedMetricWarning: Precision is ill-defined and being set to 0.0 in labels with no predicted samples. Use `zero_division` parameter to control this behavior.\n",
            "  _warn_prf(average, modifier, f\"{metric.capitalize()} is\", len(result))\n"
          ]
        }
      ]
    },
    {
      "cell_type": "markdown",
      "source": [
        "| **Feature**                    | **Feedforward Neural Network (FNN)**                  | **RNN**                                                     | **CNN**                                            | **LSTM**                                             | **GAN**                                    | **Autoencoder**                              | **Transformer**                                                                            |\n",
        "| ------------------------------ | ----------------------------------------------------- | ----------------------------------------------------------- | -------------------------------------------------- | ---------------------------------------------------- | ------------------------------------------ | -------------------------------------------- | ------------------------------------------------------------------------------------------ |\n",
        "| **Structure**                  | Simple, layers of neurons                             | Contains loops and feedback                                 | Convolutional layers                               | Contains memory cells and gates                      | Two networks (generator and discriminator) | Encoder-decoder structure                    | Attention-based architecture with layers of self-attention and feedforward networks        |\n",
        "| **Data Flow**                  | One-way from input to output                          | Feedback loops (sequential)                                 | Local receptive fields (images)                    | Sequential (time-series)                             | Adversarial training (game-like)           | Compress and reconstruct                     | Parallel processing, attention mechanisms capture relationships                            |\n",
        "| **Use Cases**                  | Classification, regression                            | Time-series, text, speech                                   | Image recognition, segmentation                    | Long-term memory retention in sequences              | Data generation, augmentation              | Dimensionality reduction, feature extraction | Natural language processing (translation, text generation, summarization)                  |\n",
        "| **Strengths**                  | Simple, works well for structured data                | Sequence learning, time-series                              | Feature extraction for images                      | Long-term memory retention                           | Realistic data generation                  | Data compression, denoising                  | Efficient at handling long-range dependencies, parallelization, scalable to large datasets |\n",
        "| **Handling Long Dependencies** | Poor (cannot capture long-term dependencies)          | Struggles with long dependencies due to vanishing gradients | Not applicable (works with spatial data)           | Good, but struggles with very long-term dependencies | Not applicable                             | Not applicable                               | Excellent, thanks to self-attention                                                        |\n",
        "| **Training Efficiency**        | Moderate (sequential data)                            | Slow due to sequential nature                               | Fast due to shared weights                         | Slow (due to sequential nature)                      | Efficient due to adversarial setup         | Moderate (autoencoders)                      | Very fast due to parallelization and attention mechanism                                   |\n",
        "| **Memory**                     | No memory (independent units)                         | Memory via hidden states                                    | No memory (independent features)                   | Memory cells with gates                              | No memory (generator-discriminator)        | Latent space representation                  | Self-attention allows for flexible contextual memory across input sequence                 |\n",
        "| **Main Application Area**      | Structured data (tabular, regression, classification) | Sequence-based tasks (speech, text, time-series)            | Image-related tasks (classification, segmentation) | Sequential data with long-term dependencies          | Generating new data from noise             | Data compression, noise removal              | Text and language tasks (generation, summarization, translation)                           |\n"
      ],
      "metadata": {
        "id": "fO8bowpxdNiG"
      }
    }
  ]
}